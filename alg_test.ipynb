{
 "cells": [
  {
   "cell_type": "code",
   "execution_count": 5,
   "metadata": {},
   "outputs": [],
   "source": [
    "import heapq"
   ]
  },
  {
   "cell_type": "code",
   "execution_count": 29,
   "metadata": {},
   "outputs": [],
   "source": [
    "nodes = [0, 1, 2, 3]\n",
    "edges = {0: [1, 3], 1: [2], 2: [0], 3: [2]}\n",
    "edgeInfo = {(0, 1): \"G1\", (0, 3): \"G4\", (1, 2): \"G3\", (2, 0): \"G2\", (3, 2): \"G4\", (0, 0): \"local\", (1, 1): \"local\", (2, 2): \"local\"}"
   ]
  },
  {
   "cell_type": "code",
   "execution_count": 30,
   "metadata": {},
   "outputs": [],
   "source": [
    "start = 0\n",
    "end = 2"
   ]
  },
  {
   "cell_type": "code",
   "execution_count": 31,
   "metadata": {},
   "outputs": [],
   "source": [
    "def fewest_transfer_path(nodes, edges, start, end):\n",
    "    visited = {}\n",
    "    nodeInfo = [(float('inf'), nodes[-1] + 1)] * len(nodes) # Transfer Count, Incoming Node\n",
    "    nodeInfo[start] = (0, start)\n",
    "\n",
    "    for ind in range(len(nodeInfo)):\n",
    "        nodeInfo[ind] = (nodeInfo[ind][0], nodeInfo[ind][1], ind)\n",
    "    \n",
    "    candidate = [nodeInfo[start]]\n",
    "\n",
    "    while len(candidate) > 0:\n",
    "        currNode = heapq.heappop(candidate)\n",
    "        if currNode[2] in visited:\n",
    "            continue\n",
    "        visited[currNode[2]] = 1\n",
    "\n",
    "        if currNode[2] == end:\n",
    "            break\n",
    "        \n",
    "        currIncoming = edgeInfo[(currNode[1], currNode[2])]\n",
    "        for neighbor in edges[currNode[2]]:\n",
    "            if edgeInfo[(currNode[2], neighbor)] != currIncoming:\n",
    "                if currNode[0] + 1 < nodeInfo[neighbor][0]:\n",
    "                    nodeInfo[neighbor] = (currNode[0] + 1, currNode[2], neighbor)\n",
    "            else:\n",
    "                if currNode[0] < nodeInfo[neighbor][0]:\n",
    "                    nodeInfo[neighbor] = (currNode[0], currNode[2], neighbor)\n",
    "            heapq.heappush(candidate, nodeInfo[neighbor])\n",
    "    \n",
    "    if nodeInfo[end][0] > len(nodes):\n",
    "        return [], -1\n",
    "\n",
    "    result = []\n",
    "    resultNode = end\n",
    "    while resultNode != start:\n",
    "        result.append(resultNode)\n",
    "        resultNode = nodeInfo[resultNode][1]\n",
    "    result.append(start)\n",
    "\n",
    "    return list(reversed(result)), nodeInfo[end][0]"
   ]
  },
  {
   "cell_type": "code",
   "execution_count": 32,
   "metadata": {},
   "outputs": [
    {
     "data": {
      "text/plain": [
       "([0, 3, 2], 1)"
      ]
     },
     "execution_count": 32,
     "metadata": {},
     "output_type": "execute_result"
    }
   ],
   "source": [
    "fewest_transfer_path(nodes, edges, start, end)"
   ]
  }
 ],
 "metadata": {
  "kernelspec": {
   "display_name": "Python 3",
   "language": "python",
   "name": "python3"
  },
  "language_info": {
   "codemirror_mode": {
    "name": "ipython",
    "version": 3
   },
   "file_extension": ".py",
   "mimetype": "text/x-python",
   "name": "python",
   "nbconvert_exporter": "python",
   "pygments_lexer": "ipython3",
   "version": "3.8.10"
  }
 },
 "nbformat": 4,
 "nbformat_minor": 2
}
