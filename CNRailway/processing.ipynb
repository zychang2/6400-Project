{
 "cells": [
  {
   "cell_type": "code",
   "execution_count": 2,
   "metadata": {},
   "outputs": [],
   "source": [
    "import json"
   ]
  },
  {
   "cell_type": "code",
   "execution_count": 2,
   "metadata": {},
   "outputs": [],
   "source": [
    "data = {}\n",
    "dateTable = {\"第一天\": 0, \"第二天\": 1, \"第三天\": 2, \"第四天\": 3, \"第五天\": 4, \"第六天\": 5}\n",
    "\n",
    "with open('data/火车班次json数据', 'r', encoding = 'utf-8') as file:\n",
    "    for line in file:\n",
    "        currLine = json.loads(line)\n",
    "        # print(currLine)\n",
    "        currLineID = list(currLine[\"ticketInfo\"].keys())[0]\n",
    "        currLineStations = currLine[\"trainScheduleBody\"]\n",
    "        currLineMidSta = []\n",
    "        for sta in currLineStations:\n",
    "            if sta[\"content\"][3] == \"起点站\":\n",
    "                staTime = sta[\"content\"][4].split(\":\")\n",
    "                currLineMidSta.append((int(staTime[0]), int(staTime[1]), sta[\"content\"][1]))\n",
    "            else:\n",
    "                staTime = sta[\"content\"][3].split(\":\")\n",
    "                currLineMidSta.append((int(staTime[0]) + 24 * dateTable[sta[\"content\"][2]], int(staTime[1]), sta[\"content\"][1]))\n",
    "        currLineMidSta = sorted(currLineMidSta)\n",
    "        for ind in range(len(currLineMidSta) - 1):\n",
    "            if currLineMidSta[ind][2] not in data:\n",
    "                data[currLineMidSta[ind][2]] = {}\n",
    "            if currLineMidSta[ind + 1][2] not in data:\n",
    "                data[currLineMidSta[ind + 1][2]] = {}\n",
    "            if currLineMidSta[ind + 1][1] < currLineMidSta[ind][1]:\n",
    "                currMinute = 60 - currLineMidSta[ind][1] + currLineMidSta[ind + 1][1]\n",
    "                currHour = currLineMidSta[ind + 1][0] - currLineMidSta[ind][0] - 1\n",
    "            else:\n",
    "                currMinute = currLineMidSta[ind + 1][1] - currLineMidSta[ind][1]\n",
    "                currHour = currLineMidSta[ind + 1][0] - currLineMidSta[ind][0]\n",
    "            if currLineMidSta[ind + 1][2] in data[currLineMidSta[ind][2]]:\n",
    "                if currHour > data[currLineMidSta[ind][2]][currLineMidSta[ind + 1][2]][0]:\n",
    "                    continue\n",
    "                elif currHour == data[currLineMidSta[ind][2]][currLineMidSta[ind + 1][2]][0]:\n",
    "                    if currMinute >= data[currLineMidSta[ind][2]][currLineMidSta[ind + 1][2]][1]:\n",
    "                        continue\n",
    "            data[currLineMidSta[ind][2]][currLineMidSta[ind + 1][2]] = (currHour, currMinute)\n",
    "            data[currLineMidSta[ind + 1][2]][currLineMidSta[ind][2]] = (currHour, currMinute)\n",
    "        # break\n",
    "\n",
    "for dataKey in data.keys():\n",
    "    data[dataKey] = {k : v for k, v in sorted(data[dataKey].items(), key = lambda x : x[1])}"
   ]
  },
  {
   "cell_type": "code",
   "execution_count": 3,
   "metadata": {},
   "outputs": [],
   "source": [
    "with open('processed_data.json', 'w', encoding='utf-8') as f:\n",
    "    json.dump(data, f, ensure_ascii=False)"
   ]
  },
  {
   "cell_type": "code",
   "execution_count": 4,
   "metadata": {},
   "outputs": [],
   "source": [
    "with open('processed_data.json', 'r', encoding='utf-8') as f:\n",
    "    data = json.load(f)"
   ]
  },
  {
   "cell_type": "code",
   "execution_count": 5,
   "metadata": {},
   "outputs": [],
   "source": [
    "cities = {}\n",
    "for dat in data.keys():\n",
    "    cities[dat] = dat[:2]"
   ]
  },
  {
   "cell_type": "code",
   "execution_count": 7,
   "metadata": {},
   "outputs": [],
   "source": [
    "with open('sta_cities.json', 'w', encoding='utf-8') as f:\n",
    "    json.dump(cities, f, ensure_ascii=False)"
   ]
  },
  {
   "cell_type": "code",
   "execution_count": 8,
   "metadata": {},
   "outputs": [],
   "source": [
    "with open('sta_cities.json', 'r', encoding='utf-8') as f:\n",
    "    cities = json.load(f)"
   ]
  },
  {
   "cell_type": "code",
   "execution_count": 10,
   "metadata": {},
   "outputs": [],
   "source": [
    "cities_to_sta = {}\n",
    "for sta, city in cities.items():\n",
    "    if city not in cities_to_sta:\n",
    "        cities_to_sta[city] = []\n",
    "    cities_to_sta[city].append(sta)"
   ]
  },
  {
   "cell_type": "code",
   "execution_count": 13,
   "metadata": {},
   "outputs": [],
   "source": [
    "cities_to_sta = {k: v for k, v in sorted(cities_to_sta.items(), key = lambda x: x[0])}"
   ]
  },
  {
   "cell_type": "code",
   "execution_count": 15,
   "metadata": {},
   "outputs": [],
   "source": [
    "with open('cities_sta.json', 'w', encoding='utf-8') as f:\n",
    "    json.dump(cities_to_sta, f, ensure_ascii=False)"
   ]
  }
 ],
 "metadata": {
  "kernelspec": {
   "display_name": "Python 3",
   "language": "python",
   "name": "python3"
  },
  "language_info": {
   "codemirror_mode": {
    "name": "ipython",
    "version": 3
   },
   "file_extension": ".py",
   "mimetype": "text/x-python",
   "name": "python",
   "nbconvert_exporter": "python",
   "pygments_lexer": "ipython3",
   "version": "3.8.10"
  }
 },
 "nbformat": 4,
 "nbformat_minor": 2
}
