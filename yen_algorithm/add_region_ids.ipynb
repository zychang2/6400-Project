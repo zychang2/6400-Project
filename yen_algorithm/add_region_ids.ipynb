{
 "cells": [
  {
   "cell_type": "code",
   "execution_count": 3,
   "metadata": {},
   "outputs": [],
   "source": [
    "import pandas as pd"
   ]
  },
  {
   "cell_type": "code",
   "execution_count": 5,
   "metadata": {},
   "outputs": [],
   "source": [
    "df = pd.read_csv('merged_routes.csv')"
   ]
  },
  {
   "cell_type": "code",
   "execution_count": 6,
   "metadata": {},
   "outputs": [
    {
     "name": "stderr",
     "output_type": "stream",
     "text": [
      "C:\\Users\\frank\\AppData\\Local\\Temp\\ipykernel_113000\\3539233552.py:4: FutureWarning: unique with argument that is not not a Series, Index, ExtensionArray, or np.ndarray is deprecated and will raise in a future version.\n",
      "  need_processing = pd.unique(list(need_processing_from) + list(need_processing_to))\n"
     ]
    }
   ],
   "source": [
    "need_processing_from = df[df['from_region_id'].isna()]['from_region_name'].unique()\n",
    "need_processing_to = df[df['to_region_id'].isna()]['to_region_name'].unique()\n",
    "\n",
    "need_processing = pd.unique(list(need_processing_from) + list(need_processing_to))\n"
   ]
  },
  {
   "cell_type": "code",
   "execution_count": 7,
   "metadata": {},
   "outputs": [
    {
     "name": "stdout",
     "output_type": "stream",
     "text": [
      "['gansu' 'hainan' 'inner mongolia' 'ningxia' 'qinghai' 'xinjiang' 'yunnan']\n"
     ]
    }
   ],
   "source": [
    "print(need_processing)"
   ]
  },
  {
   "cell_type": "code",
   "execution_count": 8,
   "metadata": {},
   "outputs": [],
   "source": [
    "new_ids = {p: id for id, p in enumerate(need_processing, start=3000)}"
   ]
  },
  {
   "cell_type": "code",
   "execution_count": 9,
   "metadata": {},
   "outputs": [],
   "source": [
    "df['from_region_id'] = df.apply(\n",
    "    lambda row: new_ids.get(row['from_region_name'], row['from_region_id']),\n",
    "    axis=1\n",
    ")\n",
    "df['to_region_id'] = df.apply(\n",
    "    lambda row: new_ids.get(row['to_region_name'], row['to_region_id']),\n",
    "    axis=1\n",
    ")"
   ]
  },
  {
   "cell_type": "code",
   "execution_count": null,
   "metadata": {},
   "outputs": [],
   "source": [
    "# df['from_region_id'] = df['from_region_id'].astype(int)\n",
    "# df['to_region_id'] = df['to_region_id'].astype(int)"
   ]
  },
  {
   "cell_type": "code",
   "execution_count": 13,
   "metadata": {},
   "outputs": [],
   "source": [
    "df.to_csv('merged_routes.csv', index=False)"
   ]
  },
  {
   "cell_type": "code",
   "execution_count": 18,
   "metadata": {},
   "outputs": [
    {
     "name": "stdout",
     "output_type": "stream",
     "text": [
      "|    | from_city   |   from_region_id | from_region_name   | to_city   |   to_region_id | to_region_name   | type   | from_station   | to_station   |   duration |   distance |   cost |   route_id | route_name              | enabled   |\n",
      "|---:|:------------|-----------------:|:-------------------|:----------|---------------:|:-----------------|:-------|:---------------|:-------------|-----------:|-----------:|-------:|-----------:|:------------------------|:----------|\n",
      "|  0 | chizhou     |             1000 | anhui              | shenzhen  |           1004 | guangdong        | flight | JUH            | SZX          |        120 |        nan |    nan |       3736 | air china ltd           | True      |\n",
      "|  1 | chizhou     |             1000 | anhui              | beijing   |           1001 | beijing          | flight | JUH            | PKX          |        115 |        nan |    nan |       8245 | china eastern airlines  | True      |\n",
      "|  2 | chizhou     |             1000 | anhui              | guangzhou |           1004 | guangdong        | flight | JUH            | CAN          |        125 |        nan |    nan |       3868 | china southern airlines | True      |\n",
      "|  3 | chizhou     |             1000 | anhui              | zhoushan  |           1021 | zhejiang         | flight | JUH            | HSN          |         95 |        nan |    nan |       5099 | tibet airlines          | True      |\n",
      "|  4 | chizhou     |             1000 | anhui              | chengdu   |           1019 | sichuan          | flight | JUH            | TFU          |        165 |        nan |    nan |       5100 | tibet airlines          | True      |\n"
     ]
    }
   ],
   "source": [
    "df = df.drop(df.columns[-4:], axis=1)\n",
    "print(df.head(5).to_markdown())"
   ]
  },
  {
   "cell_type": "code",
   "execution_count": 19,
   "metadata": {},
   "outputs": [
    {
     "name": "stdout",
     "output_type": "stream",
     "text": [
      "1040\n"
     ]
    }
   ],
   "source": [
    "unique_cities = pd.concat([df['from_city'], df['to_city']]).drop_duplicates().to_list()\n",
    "print(len(unique_cities))"
   ]
  },
  {
   "cell_type": "code",
   "execution_count": null,
   "metadata": {},
   "outputs": [],
   "source": [
    "print(unique_cities)"
   ]
  },
  {
   "cell_type": "code",
   "execution_count": null,
   "metadata": {},
   "outputs": [],
   "source": []
  }
 ],
 "metadata": {
  "kernelspec": {
   "display_name": "m_env",
   "language": "python",
   "name": "python3"
  },
  "language_info": {
   "codemirror_mode": {
    "name": "ipython",
    "version": 3
   },
   "file_extension": ".py",
   "mimetype": "text/x-python",
   "name": "python",
   "nbconvert_exporter": "python",
   "pygments_lexer": "ipython3",
   "version": "3.10.13"
  }
 },
 "nbformat": 4,
 "nbformat_minor": 2
}
