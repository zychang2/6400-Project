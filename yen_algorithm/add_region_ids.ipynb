{
 "cells": [
  {
   "cell_type": "code",
   "execution_count": 3,
   "metadata": {},
   "outputs": [],
   "source": [
    "import pandas as pd"
   ]
  },
  {
   "cell_type": "code",
   "execution_count": 5,
   "metadata": {},
   "outputs": [],
   "source": [
    "df = pd.read_csv('merged_routes.csv')"
   ]
  },
  {
   "cell_type": "code",
   "execution_count": 6,
   "metadata": {},
   "outputs": [
    {
     "name": "stderr",
     "output_type": "stream",
     "text": [
      "C:\\Users\\frank\\AppData\\Local\\Temp\\ipykernel_113000\\3539233552.py:4: FutureWarning: unique with argument that is not not a Series, Index, ExtensionArray, or np.ndarray is deprecated and will raise in a future version.\n",
      "  need_processing = pd.unique(list(need_processing_from) + list(need_processing_to))\n"
     ]
    }
   ],
   "source": [
    "need_processing_from = df[df['from_region_id'].isna()]['from_region_name'].unique()\n",
    "need_processing_to = df[df['to_region_id'].isna()]['to_region_name'].unique()\n",
    "\n",
    "need_processing = pd.unique(list(need_processing_from) + list(need_processing_to))\n"
   ]
  },
  {
   "cell_type": "code",
   "execution_count": 7,
   "metadata": {},
   "outputs": [
    {
     "name": "stdout",
     "output_type": "stream",
     "text": [
      "['gansu' 'hainan' 'inner mongolia' 'ningxia' 'qinghai' 'xinjiang' 'yunnan']\n"
     ]
    }
   ],
   "source": [
    "print(need_processing)"
   ]
  },
  {
   "cell_type": "code",
   "execution_count": 8,
   "metadata": {},
   "outputs": [],
   "source": [
    "new_ids = {p: id for id, p in enumerate(need_processing, start=3000)}"
   ]
  },
  {
   "cell_type": "code",
   "execution_count": 9,
   "metadata": {},
   "outputs": [],
   "source": [
    "df['from_region_id'] = df.apply(\n",
    "    lambda row: new_ids.get(row['from_region_name'], row['from_region_id']),\n",
    "    axis=1\n",
    ")\n",
    "df['to_region_id'] = df.apply(\n",
    "    lambda row: new_ids.get(row['to_region_name'], row['to_region_id']),\n",
    "    axis=1\n",
    ")"
   ]
  },
  {
   "cell_type": "code",
   "execution_count": 11,
   "metadata": {},
   "outputs": [],
   "source": [
    "df.to_csv('merged_routes.csv', index=False)"
   ]
  },
  {
   "cell_type": "code",
   "execution_count": null,
   "metadata": {},
   "outputs": [],
   "source": []
  }
 ],
 "metadata": {
  "kernelspec": {
   "display_name": "m_env",
   "language": "python",
   "name": "python3"
  },
  "language_info": {
   "codemirror_mode": {
    "name": "ipython",
    "version": 3
   },
   "file_extension": ".py",
   "mimetype": "text/x-python",
   "name": "python",
   "nbconvert_exporter": "python",
   "pygments_lexer": "ipython3",
   "version": "3.10.13"
  }
 },
 "nbformat": 4,
 "nbformat_minor": 2
}
