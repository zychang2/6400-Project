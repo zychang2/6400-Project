{
 "cells": [
  {
   "cell_type": "code",
   "execution_count": 2,
   "metadata": {},
   "outputs": [],
   "source": [
    "import pandas as pd\n",
    "import numpy as np\n",
    "import math\n",
    "import json\n",
    "import csv"
   ]
  },
  {
   "cell_type": "code",
   "execution_count": 4,
   "metadata": {},
   "outputs": [],
   "source": [
    "df = pd.read_csv('processed_routes_big.csv')\n",
    "stllf = open('translated_stations_normalized.json')\n",
    "st_with_latlong = json.load(stllf)"
   ]
  },
  {
   "cell_type": "code",
   "execution_count": null,
   "metadata": {},
   "outputs": [],
   "source": [
    "def get_lat_long(station_name_en: str, city_name_en: str, region_id: int):\n",
    "    pref = str(region_id)[1:]\n",
    "    for st in st_with_latlong:\n",
    "        if station_name_en == st['name_romaji'] and pref == st['prefecture'] and city_name_en == st['city'].lower():\n",
    "            return st['stations'][0]['lat'], st['stations'][0]['lon']\n",
    "    print(f'For {station_name_en} in {city_name_en}, region {pref}, not found, returning null values')\n",
    "    return None, None"
   ]
  },
  {
   "cell_type": "code",
   "execution_count": 9,
   "metadata": {},
   "outputs": [],
   "source": [
    "def fetch_from_station_lat_lon(row):\n",
    "    station_name = row['from_station']\n",
    "    city_name = row['from_city']\n",
    "    region_id = row['from_region_id']\n",
    "    return get_lat_long(station_name, city_name, region_id)\n",
    "\n",
    "# Apply the function and store results in new columns\n",
    "df[['from_lat', 'from_lon']] = df.apply(\n",
    "    lambda row: pd.Series(fetch_from_station_lat_lon(row)), axis=1\n",
    ")"
   ]
  },
  {
   "cell_type": "code",
   "execution_count": 10,
   "metadata": {},
   "outputs": [],
   "source": [
    "def fetch_to_station_lat_lon(row):\n",
    "    station_name = row['to_station']\n",
    "    city_name = row['to_city']\n",
    "    region_id = row['to_region_id']\n",
    "    return get_lat_long(station_name, city_name, region_id)\n",
    "\n",
    "# Apply the function and store results in new columns\n",
    "df[['to_lat', 'to_lon']] = df.apply(\n",
    "    lambda row: pd.Series(fetch_to_station_lat_lon(row)), axis=1\n",
    ")"
   ]
  },
  {
   "cell_type": "code",
   "execution_count": 39,
   "metadata": {},
   "outputs": [
    {
     "name": "stdout",
     "output_type": "stream",
     "text": [
      "|    | from_city   |   from_region_id | from_region_name   | to_city   |   to_region_id | to_region_name   | type   | from_station   | to_station   |   duration |   distance |   cost | route_id    | route_name   | enabled   |   from_lat |   from_lon |   to_lat |   to_lon |\n",
      "|---:|:------------|-----------------:|:-------------------|:----------|---------------:|:-----------------|:-------|:---------------|:-------------|-----------:|-----------:|-------:|:------------|:-------------|:----------|-----------:|-----------:|---------:|---------:|\n",
      "|  0 | tokyo       |              213 | tokyo              | tokyo     |            213 | tokyo            | train  | Tokyo          | Ueno         |        nan |     3.7356 |    nan | JPRail 1009 | 北陸新幹線   | True      |    35.6814 |    139.766 |  35.7138 |  139.777 |\n",
      "|  1 | tokyo       |              213 | tokyo              | tokyo     |            213 | tokyo            | train  | Ueno           | Tokyo        |        nan |     3.7356 |    nan | JPRail 1009 | 北陸新幹線   | True      |    35.7138 |    139.777 |  35.6814 |  139.766 |\n",
      "|  2 | tokyo       |              213 | tokyo              | saitama   |            211 | saitama          | train  | Ueno           | Ōmiya        |        nan |    25.4797 |    nan | JPRail 1009 | 北陸新幹線   | True      |    35.7138 |    139.777 |  35.9064 |  139.624 |\n",
      "|  3 | saitama     |              211 | saitama            | tokyo     |            213 | tokyo            | train  | Ōmiya          | Ueno         |        nan |    25.4797 |    nan | JPRail 1009 | 北陸新幹線   | True      |    35.9064 |    139.624 |  35.7138 |  139.777 |\n",
      "|  4 | saitama     |              211 | saitama            | kumagaya  |            211 | saitama          | train  | Ōmiya          | Kumagaya     |        nan |    33.424  |    nan | JPRail 1009 | 北陸新幹線   | True      |    35.9064 |    139.624 |  36.1396 |  139.39  |\n"
     ]
    }
   ],
   "source": [
    "print(df.head().to_markdown())"
   ]
  },
  {
   "cell_type": "code",
   "execution_count": 21,
   "metadata": {},
   "outputs": [],
   "source": [
    "import math\n",
    "\n",
    "def haversine(lat1, lon1, lat2, lon2):\n",
    "    # Convert latitude and longitude from degrees to radians\n",
    "    lat1, lon1, lat2, lon2 = map(math.radians, [lat1, lon1, lat2, lon2])\n",
    "    \n",
    "    # Haversine formula\n",
    "    dlat = lat2 - lat1\n",
    "    dlon = lon2 - lon1\n",
    "    a = math.sin(dlat / 2)**2 + math.cos(lat1) * math.cos(lat2) * math.sin(dlon / 2)**2\n",
    "    c = 2 * math.atan2(math.sqrt(a), math.sqrt(1 - a))\n",
    "    R = 6371  # Radius of Earth in kilometers\n",
    "    distance = R * c  # Distance in kilometers\n",
    "\n",
    "    return distance\n"
   ]
  },
  {
   "cell_type": "code",
   "execution_count": 25,
   "metadata": {},
   "outputs": [],
   "source": [
    "def sanity():\n",
    "    # Exclude specific columns from null check\n",
    "    subset_cols = [col for col in df.columns if col not in ['duration', 'distance', 'cost']]\n",
    "\n",
    "    # Count null rows in the subset\n",
    "    null_count = df[subset_cols].isnull().sum()\n",
    "\n",
    "    # Print the total number of null rows\n",
    "    print(f\"Total null rows (excluding duration, distance, and cost): {null_count.sum()}\")\n",
    "\n",
    "def sanity_1():\n",
    "    # Exclude specific columns from null check\n",
    "    subset_cols = [col for col in df.columns if col in ['distance']]\n",
    "\n",
    "    # Count null rows in the subset\n",
    "    null_count = df[subset_cols].isnull().sum()\n",
    "\n",
    "    # Print the total number of null rows\n",
    "    print(f\"Total null rows in distance: {null_count.sum()}\")\n",
    "\n",
    "def sanity_2():\n",
    "    subset_cols = [col for col in df.columns if col in ['duration']]\n",
    "\n",
    "    # Count null rows in the subset\n",
    "    null_count = df[subset_cols].isnull().sum()\n",
    "\n",
    "    # Print the total number of null rows\n",
    "    print(f\"Total null rows in duration: {null_count.sum()}\")"
   ]
  },
  {
   "cell_type": "code",
   "execution_count": 23,
   "metadata": {},
   "outputs": [
    {
     "name": "stdout",
     "output_type": "stream",
     "text": [
      "Total null rows (excluding duration, distance, and cost): 0\n"
     ]
    }
   ],
   "source": [
    "sanity()"
   ]
  },
  {
   "cell_type": "code",
   "execution_count": 24,
   "metadata": {},
   "outputs": [],
   "source": [
    "# Calculate distance using haversine\n",
    "df[\"distance\"] = df.apply(\n",
    "    lambda row: haversine(row[\"from_lat\"], row[\"from_lon\"], row[\"to_lat\"], row[\"to_lon\"]), axis=1\n",
    ")"
   ]
  },
  {
   "cell_type": "code",
   "execution_count": 26,
   "metadata": {},
   "outputs": [
    {
     "name": "stdout",
     "output_type": "stream",
     "text": [
      "Total null rows in distance: 0\n"
     ]
    }
   ],
   "source": [
    "sanity_1()"
   ]
  },
  {
   "cell_type": "code",
   "execution_count": 100,
   "metadata": {},
   "outputs": [],
   "source": [
    "def calculate_effective_speed(distance, max_speed, short_threshold=10, medium_threshold=50):\n",
    "    if distance <= short_threshold:\n",
    "        # Slow intra-city travel\n",
    "        return 65\n",
    "    elif distance <= medium_threshold:\n",
    "        # Medium-distance adjustment\n",
    "        return 120\n",
    "    else:\n",
    "        # Long-distance, use max speed\n",
    "        return max_speed\n",
    "\n",
    "def estimate_duration(distance, route_id):\n",
    "    route = int(route_id.split(' ')[1])\n",
    "    factor = 1.25\n",
    "    speed = 60 if route > 10000 else calculate_effective_speed(distance, 250, 10, 40)\n",
    "    # print(speed)\n",
    "    return math.floor(distance * factor / (speed / 60)) + 1"
   ]
  },
  {
   "cell_type": "code",
   "execution_count": 101,
   "metadata": {},
   "outputs": [
    {
     "data": {
      "text/plain": [
       "16"
      ]
     },
     "execution_count": 101,
     "metadata": {},
     "output_type": "execute_result"
    }
   ],
   "source": [
    "estimate_duration( 25.4797 , 'JPRailway 1002')"
   ]
  },
  {
   "cell_type": "code",
   "execution_count": 102,
   "metadata": {},
   "outputs": [],
   "source": [
    "df[\"duration\"] = df.apply(\n",
    "    lambda row: estimate_duration(row['distance'], row['route_id']), axis=1\n",
    ")"
   ]
  },
  {
   "cell_type": "code",
   "execution_count": 103,
   "metadata": {},
   "outputs": [
    {
     "name": "stdout",
     "output_type": "stream",
     "text": [
      "Total null rows in duration: 0\n"
     ]
    }
   ],
   "source": [
    "sanity_2()"
   ]
  },
  {
   "cell_type": "code",
   "execution_count": 104,
   "metadata": {},
   "outputs": [
    {
     "name": "stdout",
     "output_type": "stream",
     "text": [
      "|    | from_city    |   from_region_id | from_region_name   | to_city      |   to_region_id | to_region_name   | type   | from_station         | to_station           |   duration |   distance |   cost | route_id     | route_name                       | enabled   |   from_lat |   from_lon |   to_lat |   to_lon |\n",
      "|---:|:-------------|-----------------:|:-------------------|:-------------|---------------:|:-----------------|:-------|:---------------------|:---------------------|-----------:|-----------:|-------:|:-------------|:---------------------------------|:----------|-----------:|-----------:|---------:|---------:|\n",
      "|  0 | tokyo        |              213 | tokyo              | tokyo        |            213 | tokyo            | train  | Tokyo                | Ueno                 |          5 |    3.7356  |    nan | JPRail 1009  | 北陸新幹線                       | True      |    35.6814 |    139.766 |  35.7138 |  139.777 |\n",
      "|  1 | tokyo        |              213 | tokyo              | tokyo        |            213 | tokyo            | train  | Ueno                 | Tokyo                |          5 |    3.7356  |    nan | JPRail 1009  | 北陸新幹線                       | True      |    35.7138 |    139.777 |  35.6814 |  139.766 |\n",
      "|  2 | tokyo        |              213 | tokyo              | saitama      |            211 | saitama          | train  | Ueno                 | Ōmiya                |         16 |   25.4797  |    nan | JPRail 1009  | 北陸新幹線                       | True      |    35.7138 |    139.777 |  35.9064 |  139.624 |\n",
      "|  3 | saitama      |              211 | saitama            | tokyo        |            213 | tokyo            | train  | Ōmiya                | Ueno                 |         16 |   25.4797  |    nan | JPRail 1009  | 北陸新幹線                       | True      |    35.9064 |    139.624 |  35.7138 |  139.777 |\n",
      "|  4 | saitama      |              211 | saitama            | kumagaya     |            211 | saitama          | train  | Ōmiya                | Kumagaya             |         21 |   33.424   |    nan | JPRail 1009  | 北陸新幹線                       | True      |    35.9064 |    139.624 |  36.1396 |  139.39  |\n",
      "|  5 | kumagaya     |              211 | saitama            | saitama      |            211 | saitama          | train  | Kumagaya             | Ōmiya                |         21 |   33.424   |    nan | JPRail 1009  | 北陸新幹線                       | True      |    36.1396 |    139.39  |  35.9064 |  139.624 |\n",
      "|  6 | kumagaya     |              211 | saitama            | takasaki     |            210 | gunma            | train  | Kumagaya             | Takasaki             |         25 |   39.4564  |    nan | JPRail 1009  | 北陸新幹線                       | True      |    36.1396 |    139.39  |  36.3222 |  139.012 |\n",
      "|  7 | takasaki     |              210 | gunma              | kumagaya     |            211 | saitama          | train  | Takasaki             | Kumagaya             |         25 |   39.4564  |    nan | JPRail 1009  | 北陸新幹線                       | True      |    36.3222 |    139.012 |  36.1396 |  139.39  |\n",
      "|  8 | takasaki     |              210 | gunma              | karuizawa    |            220 | nagano           | train  | Takasaki             | Karuizawa            |         22 |   33.8718  |    nan | JPRail 1009  | 北陸新幹線                       | True      |    36.3222 |    139.012 |  36.3429 |  138.635 |\n",
      "|  9 | karuizawa    |              220 | nagano             | takasaki     |            210 | gunma            | train  | Karuizawa            | Takasaki             |         22 |   33.8718  |    nan | JPRail 1009  | 北陸新幹線                       | True      |    36.3429 |    138.635 |  36.3222 |  139.012 |\n",
      "| 10 | karuizawa    |              220 | nagano             | saku         |            220 | nagano           | train  | Karuizawa            | Sakudaira            |         11 |   16.9174  |    nan | JPRail 1009  | 北陸新幹線                       | True      |    36.3429 |    138.635 |  36.2779 |  138.464 |\n",
      "| 11 | saku         |              220 | nagano             | karuizawa    |            220 | nagano           | train  | Sakudaira            | Karuizawa            |         11 |   16.9174  |    nan | JPRail 1009  | 北陸新幹線                       | True      |    36.2779 |    138.464 |  36.3429 |  138.635 |\n",
      "| 12 | saku         |              220 | nagano             | ueda         |            220 | nagano           | train  | Sakudaira            | Ueda                 |         15 |   23.3489  |    nan | JPRail 1009  | 北陸新幹線                       | True      |    36.2779 |    138.464 |  36.3966 |  138.249 |\n",
      "| 13 | ueda         |              220 | nagano             | saku         |            220 | nagano           | train  | Ueda                 | Sakudaira            |         15 |   23.3489  |    nan | JPRail 1009  | 北陸新幹線                       | True      |    36.3966 |    138.249 |  36.2779 |  138.464 |\n",
      "| 14 | ueda         |              220 | nagano             | nagano       |            220 | nagano           | train  | Ueda                 | Nagano               |         18 |   27.9573  |    nan | JPRail 1009  | 北陸新幹線                       | True      |    36.3966 |    138.249 |  36.6433 |  138.189 |\n",
      "| 15 | nagano       |              220 | nagano             | ueda         |            220 | nagano           | train  | Nagano               | Ueda                 |         18 |   27.9573  |    nan | JPRail 1009  | 北陸新幹線                       | True      |    36.6433 |    138.189 |  36.3966 |  138.249 |\n",
      "| 16 | nagano       |              220 | nagano             | iiyama       |            220 | nagano           | train  | Nagano               | Iiyama               |         18 |   27.3187  |    nan | JPRail 1009  | 北陸新幹線                       | True      |    36.6433 |    138.189 |  36.8476 |  138.359 |\n",
      "| 17 | iiyama       |              220 | nagano             | nagano       |            220 | nagano           | train  | Iiyama               | Nagano               |         18 |   27.3187  |    nan | JPRail 1009  | 北陸新幹線                       | True      |    36.8476 |    138.359 |  36.6433 |  138.189 |\n",
      "| 18 | iiyama       |              220 | nagano             | joetsu       |            215 | niigata          | train  | Iiyama               | Jōetsumyōkō          |         18 |   27.8078  |    nan | JPRail 1009  | 北陸新幹線                       | True      |    36.8476 |    138.359 |  37.0818 |  138.249 |\n",
      "| 19 | joetsu       |              215 | niigata            | iiyama       |            220 | nagano           | train  | Jōetsumyōkō          | Iiyama               |         18 |   27.8078  |    nan | JPRail 1009  | 北陸新幹線                       | True      |    37.0818 |    138.249 |  36.8476 |  138.359 |\n",
      "| 20 | joetsu       |              215 | niigata            | itoigawa     |            215 | niigata          | train  | Jōetsumyōkō          | Itoigawa             |         22 |   34.7029  |    nan | JPRail 1009  | 北陸新幹線                       | True      |    37.0818 |    138.249 |  37.0436 |  137.861 |\n",
      "| 21 | itoigawa     |              215 | niigata            | joetsu       |            215 | niigata          | train  | Itoigawa             | Jōetsumyōkō          |         22 |   34.7029  |    nan | JPRail 1009  | 北陸新幹線                       | True      |    37.0436 |    137.861 |  37.0818 |  138.249 |\n",
      "| 22 | itoigawa     |              215 | niigata            | toyama       |            216 | toyama           | train  | Itoigawa             | Toyama               |         21 |   69.0871  |    nan | JPRail 1009  | 北陸新幹線                       | True      |    37.0436 |    137.861 |  36.7014 |  137.213 |\n",
      "| 23 | toyama       |              216 | toyama             | itoigawa     |            215 | niigata          | train  | Toyama               | Itoigawa             |         21 |   69.0871  |    nan | JPRail 1009  | 北陸新幹線                       | True      |    36.7014 |    137.213 |  37.0436 |  137.861 |\n",
      "| 24 | toyama       |              216 | toyama             | takaoka      |            216 | toyama           | train  | Toyama               | Shin-Takaoka         |         12 |   18.2853  |    nan | JPRail 1009  | 北陸新幹線                       | True      |    36.7014 |    137.213 |  36.727  |  137.01  |\n",
      "| 25 | takaoka      |              216 | toyama             | toyama       |            216 | toyama           | train  | Shin-Takaoka         | Toyama               |         12 |   18.2853  |    nan | JPRail 1009  | 北陸新幹線                       | True      |    36.727  |    137.01  |  36.7014 |  137.213 |\n",
      "| 26 | takaoka      |              216 | toyama             | kanazawa     |            217 | ishikawa         | train  | Shin-Takaoka         | Kanazawa             |         23 |   36.313   |    nan | JPRail 1009  | 北陸新幹線                       | True      |    36.727  |    137.01  |  36.5781 |  136.648 |\n",
      "| 27 | kanazawa     |              217 | ishikawa           | takaoka      |            216 | toyama           | train  | Kanazawa             | Shin-Takaoka         |         23 |   36.313   |    nan | JPRail 1009  | 北陸新幹線                       | True      |    36.5781 |    136.648 |  36.727  |  137.01  |\n",
      "| 28 | kanazawa     |              217 | ishikawa           | komatsu      |            217 | ishikawa         | train  | Kanazawa             | Komatsu              |         17 |   26.1871  |    nan | JPRail 1009  | 北陸新幹線                       | True      |    36.5781 |    136.648 |  36.4025 |  136.453 |\n",
      "| 29 | komatsu      |              217 | ishikawa           | kanazawa     |            217 | ishikawa         | train  | Komatsu              | Kanazawa             |         17 |   26.1871  |    nan | JPRail 1009  | 北陸新幹線                       | True      |    36.4025 |    136.453 |  36.5781 |  136.648 |\n",
      "| 30 | komatsu      |              217 | ishikawa           | kaga         |            217 | ishikawa         | train  | Komatsu              | Kagaonsen            |          9 |   12.9418  |    nan | JPRail 1009  | 北陸新幹線                       | True      |    36.4025 |    136.453 |  36.3206 |  136.35  |\n",
      "| 31 | kaga         |              217 | ishikawa           | komatsu      |            217 | ishikawa         | train  | Kagaonsen            | Komatsu              |          9 |   12.9418  |    nan | JPRail 1009  | 北陸新幹線                       | True      |    36.3206 |    136.35  |  36.4025 |  136.453 |\n",
      "| 32 | kaga         |              217 | ishikawa           | awara        |            218 | fukui            | train  | Kagaonsen            | Awaraonsen           |         10 |   15.6771  |    nan | JPRail 1009  | 北陸新幹線                       | True      |    36.3206 |    136.35  |  36.2145 |  136.235 |\n",
      "| 33 | awara        |              218 | fukui              | kaga         |            217 | ishikawa         | train  | Awaraonsen           | Kagaonsen            |         10 |   15.6771  |    nan | JPRail 1009  | 北陸新幹線                       | True      |    36.2145 |    136.235 |  36.3206 |  136.35  |\n",
      "| 34 | awara        |              218 | fukui              | fukui        |            218 | fukui            | train  | Awaraonsen           | Fukui                |         11 |   16.9873  |    nan | JPRail 1009  | 北陸新幹線                       | True      |    36.2145 |    136.235 |  36.0621 |  136.224 |\n",
      "| 35 | fukui        |              218 | fukui              | awara        |            218 | fukui            | train  | Fukui                | Awaraonsen           |         11 |   16.9873  |    nan | JPRail 1009  | 北陸新幹線                       | True      |    36.0621 |    136.224 |  36.2145 |  136.235 |\n",
      "| 36 | fukui        |              218 | fukui              | tsuruga      |            218 | fukui            | train  | Fukui                | Tsuruga              |         15 |   48.2555  |    nan | JPRail 1009  | 北陸新幹線                       | True      |    36.0621 |    136.224 |  35.6448 |  136.076 |\n",
      "| 37 | tsuruga      |              218 | fukui              | fukui        |            218 | fukui            | train  | Tsuruga              | Fukui                |         15 |   48.2555  |    nan | JPRail 1009  | 北陸新幹線                       | True      |    35.6448 |    136.076 |  36.0621 |  136.224 |\n",
      "| 38 | tsuruga      |              218 | fukui              | obama        |            218 | fukui            | train  | Tsuruga              | Higashi-Obama        |         21 |   32.0747  |    nan | JPRail 1009  | 北陸新幹線                       | True      |    35.6448 |    136.076 |  35.4852 |  135.781 |\n",
      "| 39 | obama        |              218 | fukui              | tsuruga      |            218 | fukui            | train  | Higashi-Obama        | Tsuruga              |         21 |   32.0747  |    nan | JPRail 1009  | 北陸新幹線                       | True      |    35.4852 |    135.781 |  35.6448 |  136.076 |\n",
      "| 40 | obama        |              218 | fukui              | kyoto        |            226 | kyoto            | train  | Higashi-Obama        | Kyōto                |         17 |   55.6121  |    nan | JPRail 1009  | 北陸新幹線                       | True      |    35.4852 |    135.781 |  34.9855 |  135.758 |\n",
      "| 41 | kyoto        |              226 | kyoto              | obama        |            218 | fukui            | train  | Kyōto                | Higashi-Obama        |         17 |   55.6121  |    nan | JPRail 1009  | 北陸新幹線                       | True      |    34.9855 |    135.758 |  35.4852 |  135.781 |\n",
      "| 42 | kyoto        |              226 | kyoto              | kyotanabe    |            226 | kyoto            | train  | Kyōto                | Matsuiyamate         |         11 |   17.1429  |    nan | JPRail 1009  | 北陸新幹線                       | True      |    34.9855 |    135.758 |  34.8333 |  135.728 |\n",
      "| 43 | kyotanabe    |              226 | kyoto              | kyoto        |            226 | kyoto            | train  | Matsuiyamate         | Kyōto                |         11 |   17.1429  |    nan | JPRail 1009  | 北陸新幹線                       | True      |    34.8333 |    135.728 |  34.9855 |  135.758 |\n",
      "| 44 | kyotanabe    |              226 | kyoto              | osaka        |            227 | osaka            | train  | Matsuiyamate         | Shin‐Ōsaka           |         15 |   23.3808  |    nan | JPRail 1009  | 北陸新幹線                       | True      |    34.8333 |    135.728 |  34.7341 |  135.502 |\n",
      "| 45 | osaka        |              227 | osaka              | kyotanabe    |            226 | kyoto            | train  | Shin‐Ōsaka           | Matsuiyamate         |         15 |   23.3808  |    nan | JPRail 1009  | 北陸新幹線                       | True      |    34.7341 |    135.502 |  34.8333 |  135.728 |\n",
      "| 46 | hakodate     |              201 | hokkaido           | nanae        |            201 | hokkaido         | train  | Hakodate             | Nanae                |         17 |   12.9789  |    nan | JPRail 11101 | JR函館本線(函館～長万部)         | True      |    41.7737 |    140.726 |  41.887  |  140.689 |\n",
      "| 47 | nanae        |              201 | hokkaido           | hakodate     |            201 | hokkaido         | train  | Nanae                | Hakodate             |         17 |   12.9789  |    nan | JPRail 11101 | JR函館本線(函館～長万部)         | True      |    41.887  |    140.689 |  41.7737 |  140.726 |\n",
      "| 48 | nanae        |              201 | hokkaido           | hokuto       |            201 | hokkaido         | train  | Nanae                | Shin-Hakodate-Hokuto |          6 |    4.03753 |    nan | JPRail 11101 | JR函館本線(函館～長万部)         | True      |    41.887  |    140.689 |  41.9054 |  140.647 |\n",
      "| 49 | hokuto       |              201 | hokkaido           | nanae        |            201 | hokkaido         | train  | Shin-Hakodate-Hokuto | Nanae                |          6 |    4.03753 |    nan | JPRail 11101 | JR函館本線(函館～長万部)         | True      |    41.9054 |    140.647 |  41.887  |  140.689 |\n",
      "| 50 | hokuto       |              201 | hokkaido           | shikabe      |            201 | hokkaido         | train  | Shin-Hakodate-Hokuto | Shikabe              |         26 |   20.471   |    nan | JPRail 11101 | JR函館本線(函館～長万部)         | True      |    41.9054 |    140.647 |  42.0644 |  140.771 |\n",
      "| 51 | shikabe      |              201 | hokkaido           | hokuto       |            201 | hokkaido         | train  | Shikabe              | Shin-Hakodate-Hokuto |         26 |   20.471   |    nan | JPRail 11101 | JR函館本線(函館～長万部)         | True      |    42.0644 |    140.771 |  41.9054 |  140.647 |\n",
      "| 52 | shikabe      |              201 | hokkaido           | mori         |            201 | hokkaido         | train  | Shikabe              | Mori                 |         22 |   17.0371  |    nan | JPRail 11101 | JR函館本線(函館～長万部)         | True      |    42.0644 |    140.771 |  42.1089 |  140.574 |\n",
      "| 53 | mori         |              201 | hokkaido           | shikabe      |            201 | hokkaido         | train  | Mori                 | Shikabe              |         22 |   17.0371  |    nan | JPRail 11101 | JR函館本線(函館～長万部)         | True      |    42.1089 |    140.574 |  42.0644 |  140.771 |\n",
      "| 54 | mori         |              201 | hokkaido           | yakumo       |            201 | hokkaido         | train  | Mori                 | Yakumo               |         37 |   29.5158  |    nan | JPRail 11101 | JR函館本線(函館～長万部)         | True      |    42.1089 |    140.574 |  42.2534 |  140.273 |\n",
      "| 55 | yakumo       |              201 | hokkaido           | mori         |            201 | hokkaido         | train  | Yakumo               | Mori                 |         37 |   29.5158  |    nan | JPRail 11101 | JR函館本線(函館～長万部)         | True      |    42.2534 |    140.273 |  42.1089 |  140.574 |\n",
      "| 56 | yakumo       |              201 | hokkaido           | oshamanbe    |            201 | hokkaido         | train  | Yakumo               | Oshamambe            |         38 |   29.9962  |    nan | JPRail 11101 | JR函館本線(函館～長万部)         | True      |    42.2534 |    140.273 |  42.5125 |  140.375 |\n",
      "| 57 | oshamanbe    |              201 | hokkaido           | yakumo       |            201 | hokkaido         | train  | Oshamambe            | Yakumo               |         38 |   29.9962  |    nan | JPRail 11101 | JR函館本線(函館～長万部)         | True      |    42.5125 |    140.375 |  42.2534 |  140.273 |\n",
      "| 58 | aomori       |              202 | aomori             | kikonai      |            201 | hokkaido         | train  | Shin-Aomori          | Kikonai              |         30 |   96.988   |    nan | JPRail 1011  | 北海道新幹線                     | True      |    40.8275 |    140.693 |  41.6776 |  140.434 |\n",
      "| 59 | kikonai      |              201 | hokkaido           | aomori       |            202 | aomori           | train  | Kikonai              | Shin-Aomori          |         30 |   96.988   |    nan | JPRail 1011  | 北海道新幹線                     | True      |    41.6776 |    140.434 |  40.8275 |  140.693 |\n",
      "| 60 | kikonai      |              201 | hokkaido           | hokuto       |            201 | hokkaido         | train  | Kikonai              | Shin-Hakodate-Hokuto |         20 |   30.8513  |    nan | JPRail 1011  | 北海道新幹線                     | True      |    41.6776 |    140.434 |  41.9054 |  140.647 |\n",
      "| 61 | hokuto       |              201 | hokkaido           | kikonai      |            201 | hokkaido         | train  | Shin-Hakodate-Hokuto | Kikonai              |         20 |   30.8513  |    nan | JPRail 1011  | 北海道新幹線                     | True      |    41.9054 |    140.647 |  41.6776 |  140.434 |\n",
      "| 62 | oshamanbe    |              201 | hokkaido           | kuromatsunai |            201 | hokkaido         | train  | Oshamambe            | Kuromatsunai         |         23 |   18.3718  |    nan | JPRail 11102 | JR函館本線(長万部～小樽)         | True      |    42.5125 |    140.375 |  42.6696 |  140.306 |\n",
      "| 63 | kuromatsunai |              201 | hokkaido           | oshamanbe    |            201 | hokkaido         | train  | Kuromatsunai         | Oshamambe            |         23 |   18.3718  |    nan | JPRail 11102 | JR函館本線(長万部～小樽)         | True      |    42.6696 |    140.306 |  42.5125 |  140.375 |\n",
      "| 64 | kuromatsunai |              201 | hokkaido           | rankoshi     |            201 | hokkaido         | train  | Kuromatsunai         | Rankoshi             |         30 |   23.6117  |    nan | JPRail 11102 | JR函館本線(長万部～小樽)         | True      |    42.6696 |    140.306 |  42.8045 |  140.529 |\n",
      "| 65 | rankoshi     |              201 | hokkaido           | kuromatsunai |            201 | hokkaido         | train  | Rankoshi             | Kuromatsunai         |         30 |   23.6117  |    nan | JPRail 11102 | JR函館本線(長万部～小樽)         | True      |    42.8045 |    140.529 |  42.6696 |  140.306 |\n",
      "| 66 | rankoshi     |              201 | hokkaido           | niseko       |            201 | hokkaido         | train  | Rankoshi             | Niseko               |         16 |   12.7061  |    nan | JPRail 11102 | JR函館本線(長万部～小樽)         | True      |    42.8045 |    140.529 |  42.8087 |  140.685 |\n",
      "| 67 | niseko       |              201 | hokkaido           | rankoshi     |            201 | hokkaido         | train  | Niseko               | Rankoshi             |         16 |   12.7061  |    nan | JPRail 11102 | JR函館本線(長万部～小樽)         | True      |    42.8087 |    140.685 |  42.8045 |  140.529 |\n",
      "| 68 | niseko       |              201 | hokkaido           | kucchan      |            201 | hokkaido         | train  | Niseko               | Kutchan              |         15 |   11.4597  |    nan | JPRail 11102 | JR函館本線(長万部～小樽)         | True      |    42.8087 |    140.685 |  42.9016 |  140.745 |\n",
      "| 69 | kucchan      |              201 | hokkaido           | niseko       |            201 | hokkaido         | train  | Kutchan              | Niseko               |         15 |   11.4597  |    nan | JPRail 11102 | JR函館本線(長万部～小樽)         | True      |    42.9016 |    140.745 |  42.8087 |  140.685 |\n",
      "| 70 | kucchan      |              201 | hokkaido           | kyowa        |            201 | hokkaido         | train  | Kutchan              | Kozawa               |         12 |    9.56165 |    nan | JPRail 11102 | JR函館本線(長万部～小樽)         | True      |    42.9016 |    140.745 |  42.9719 |  140.678 |\n",
      "| 71 | kyowa        |              201 | hokkaido           | kucchan      |            201 | hokkaido         | train  | Kozawa               | Kutchan              |         12 |    9.56165 |    nan | JPRail 11102 | JR函館本線(長万部～小樽)         | True      |    42.9719 |    140.678 |  42.9016 |  140.745 |\n",
      "| 72 | kyowa        |              201 | hokkaido           | niki         |            201 | hokkaido         | train  | Kozawa               | Niki                 |         28 |   21.6237  |    nan | JPRail 11102 | JR函館本線(長万部～小樽)         | True      |    42.9719 |    140.678 |  43.1541 |  140.771 |\n",
      "| 73 | niki         |              201 | hokkaido           | kyowa        |            201 | hokkaido         | train  | Niki                 | Kozawa               |         28 |   21.6237  |    nan | JPRail 11102 | JR函館本線(長万部～小樽)         | True      |    43.1541 |    140.771 |  42.9719 |  140.678 |\n",
      "| 74 | niki         |              201 | hokkaido           | yoichi       |            201 | hokkaido         | train  | Niki                 | Yoichi               |          6 |    4.1068  |    nan | JPRail 11102 | JR函館本線(長万部～小樽)         | True      |    43.1541 |    140.771 |  43.1866 |  140.795 |\n",
      "| 75 | yoichi       |              201 | hokkaido           | niki         |            201 | hokkaido         | train  | Yoichi               | Niki                 |          6 |    4.1068  |    nan | JPRail 11102 | JR函館本線(長万部～小樽)         | True      |    43.1866 |    140.795 |  43.1541 |  140.771 |\n",
      "| 76 | yoichi       |              201 | hokkaido           | otaru        |            201 | hokkaido         | train  | Yoichi               | Otaru                |         21 |   16.1731  |    nan | JPRail 11102 | JR函館本線(長万部～小樽)         | True      |    43.1866 |    140.795 |  43.1972 |  140.994 |\n",
      "| 77 | otaru        |              201 | hokkaido           | yoichi       |            201 | hokkaido         | train  | Otaru                | Yoichi               |         21 |   16.1731  |    nan | JPRail 11102 | JR函館本線(長万部～小樽)         | True      |    43.1972 |    140.994 |  43.1866 |  140.795 |\n",
      "| 78 | oshamanbe    |              201 | hokkaido           | toyoura      |            201 | hokkaido         | train  | Oshamambe            | Toyoura              |         37 |   28.8795  |    nan | JPRail 11104 | JR室蘭本線(長万部・室蘭～苫小牧) | True      |    42.5125 |    140.375 |  42.5803 |  140.715 |\n",
      "| 79 | toyoura      |              201 | hokkaido           | oshamanbe    |            201 | hokkaido         | train  | Toyoura              | Oshamambe            |         37 |   28.8795  |    nan | JPRail 11104 | JR室蘭本線(長万部・室蘭～苫小牧) | True      |    42.5803 |    140.715 |  42.5125 |  140.375 |\n",
      "| 80 | toyoura      |              201 | hokkaido           | toyako       |            201 | hokkaido         | train  | Toyoura              | Tōya                 |          7 |    5.17696 |    nan | JPRail 11104 | JR室蘭本線(長万部・室蘭～苫小牧) | True      |    42.5803 |    140.715 |  42.5506 |  140.764 |\n",
      "| 81 | toyako       |              201 | hokkaido           | toyoura      |            201 | hokkaido         | train  | Tōya                 | Toyoura              |          7 |    5.17696 |    nan | JPRail 11104 | JR室蘭本線(長万部・室蘭～苫小牧) | True      |    42.5506 |    140.764 |  42.5803 |  140.715 |\n",
      "| 82 | toyako       |              201 | hokkaido           | date         |            201 | hokkaido         | train  | Tōya                 | Datemombetsu         |         15 |   11.7519  |    nan | JPRail 11104 | JR室蘭本線(長万部・室蘭～苫小牧) | True      |    42.5506 |    140.764 |  42.4694 |  140.856 |\n",
      "| 83 | date         |              201 | hokkaido           | toyako       |            201 | hokkaido         | train  | Datemombetsu         | Tōya                 |         15 |   11.7519  |    nan | JPRail 11104 | JR室蘭本線(長万部・室蘭～苫小牧) | True      |    42.4694 |    140.856 |  42.5506 |  140.764 |\n",
      "| 84 | date         |              201 | hokkaido           | date         |            201 | hokkaido         | train  | Datemombetsu         | Mareppu              |          8 |    6.01815 |    nan | JPRail 11104 | JR室蘭本線(長万部・室蘭～苫小牧) | True      |    42.4694 |    140.856 |  42.4256 |  140.899 |\n",
      "| 85 | date         |              201 | hokkaido           | date         |            201 | hokkaido         | train  | Mareppu              | Datemombetsu         |          8 |    6.01815 |    nan | JPRail 11104 | JR室蘭本線(長万部・室蘭～苫小牧) | True      |    42.4256 |    140.899 |  42.4694 |  140.856 |\n",
      "| 86 | date         |              201 | hokkaido           | date         |            201 | hokkaido         | train  | Mareppu              | Kogane               |          6 |    4.41217 |    nan | JPRail 11104 | JR室蘭本線(長万部・室蘭～苫小牧) | True      |    42.4256 |    140.899 |  42.3864 |  140.908 |\n",
      "| 87 | date         |              201 | hokkaido           | date         |            201 | hokkaido         | train  | Kogane               | Mareppu              |          6 |    4.41217 |    nan | JPRail 11104 | JR室蘭本線(長万部・室蘭～苫小牧) | True      |    42.3864 |    140.908 |  42.4256 |  140.899 |\n",
      "| 88 | date         |              201 | hokkaido           | muroran      |            201 | hokkaido         | train  | Kogane               | Muroran              |         12 |    9.45021 |    nan | JPRail 11104 | JR室蘭本線(長万部・室蘭～苫小牧) | True      |    42.3864 |    140.908 |  42.3179 |  140.976 |\n",
      "| 89 | muroran      |              201 | hokkaido           | date         |            201 | hokkaido         | train  | Muroran              | Kogane               |         12 |    9.45021 |    nan | JPRail 11104 | JR室蘭本線(長万部・室蘭～苫小牧) | True      |    42.3179 |    140.976 |  42.3864 |  140.908 |\n",
      "| 90 | muroran      |              201 | hokkaido           | noboribetsu  |            201 | hokkaido         | train  | Muroran              | Noboribetsu          |         29 |   22.5121  |    nan | JPRail 11104 | JR室蘭本線(長万部・室蘭～苫小牧) | True      |    42.3179 |    140.976 |  42.4521 |  141.181 |\n",
      "| 91 | noboribetsu  |              201 | hokkaido           | muroran      |            201 | hokkaido         | train  | Noboribetsu          | Muroran              |         29 |   22.5121  |    nan | JPRail 11104 | JR室蘭本線(長万部・室蘭～苫小牧) | True      |    42.4521 |    141.181 |  42.3179 |  140.976 |\n",
      "| 92 | noboribetsu  |              201 | hokkaido           | shiraoi      |            201 | hokkaido         | train  | Noboribetsu          | Shiraoi              |         24 |   18.5998  |    nan | JPRail 11104 | JR室蘭本線(長万部・室蘭～苫小牧) | True      |    42.4521 |    141.181 |  42.5547 |  141.36  |\n",
      "| 93 | shiraoi      |              201 | hokkaido           | noboribetsu  |            201 | hokkaido         | train  | Shiraoi              | Noboribetsu          |         24 |   18.5998  |    nan | JPRail 11104 | JR室蘭本線(長万部・室蘭～苫小牧) | True      |    42.5547 |    141.36  |  42.4521 |  141.181 |\n",
      "| 94 | shiraoi      |              201 | hokkaido           | tomakomai    |            201 | hokkaido         | train  | Shiraoi              | Tomakomai            |         27 |   21.5597  |    nan | JPRail 11104 | JR室蘭本線(長万部・室蘭～苫小牧) | True      |    42.5547 |    141.36  |  42.6397 |  141.597 |\n",
      "| 95 | tomakomai    |              201 | hokkaido           | shiraoi      |            201 | hokkaido         | train  | Tomakomai            | Shiraoi              |         27 |   21.5597  |    nan | JPRail 11104 | JR室蘭本線(長万部・室蘭～苫小牧) | True      |    42.6397 |    141.597 |  42.5547 |  141.36  |\n",
      "| 96 | otaru        |              201 | hokkaido           | sapporo      |            201 | hokkaido         | train  | Otaru                | Sapporo              |         41 |   32.3128  |    nan | JPRail 11103 | JR函館本線(小樽～旭川)           | True      |    43.1972 |    140.994 |  43.0686 |  141.351 |\n",
      "| 97 | sapporo      |              201 | hokkaido           | otaru        |            201 | hokkaido         | train  | Sapporo              | Otaru                |         41 |   32.3128  |    nan | JPRail 11103 | JR函館本線(小樽～旭川)           | True      |    43.0686 |    141.351 |  43.1972 |  140.994 |\n",
      "| 98 | sapporo      |              201 | hokkaido           | ebetsu       |            201 | hokkaido         | train  | Sapporo              | Ebetsu               |         22 |   17.3569  |    nan | JPRail 11103 | JR函館本線(小樽～旭川)           | True      |    43.0686 |    141.351 |  43.1102 |  141.557 |\n",
      "| 99 | ebetsu       |              201 | hokkaido           | sapporo      |            201 | hokkaido         | train  | Ebetsu               | Sapporo              |         22 |   17.3569  |    nan | JPRail 11103 | JR函館本線(小樽～旭川)           | True      |    43.1102 |    141.557 |  43.0686 |  141.351 |\n"
     ]
    }
   ],
   "source": [
    "print(df.head(100).to_markdown())"
   ]
  },
  {
   "cell_type": "code",
   "execution_count": 106,
   "metadata": {},
   "outputs": [],
   "source": [
    "df.to_csv('processed_routes_big.csv', index=False)"
   ]
  },
  {
   "cell_type": "code",
   "execution_count": null,
   "metadata": {},
   "outputs": [],
   "source": []
  }
 ],
 "metadata": {
  "kernelspec": {
   "display_name": "m_env",
   "language": "python",
   "name": "python3"
  },
  "language_info": {
   "codemirror_mode": {
    "name": "ipython",
    "version": 3
   },
   "file_extension": ".py",
   "mimetype": "text/x-python",
   "name": "python",
   "nbconvert_exporter": "python",
   "pygments_lexer": "ipython3",
   "version": "3.10.13"
  }
 },
 "nbformat": 4,
 "nbformat_minor": 2
}
