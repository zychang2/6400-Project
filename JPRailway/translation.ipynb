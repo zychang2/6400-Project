{
 "cells": [
  {
   "cell_type": "code",
   "execution_count": 1,
   "metadata": {},
   "outputs": [
    {
     "name": "stderr",
     "output_type": "stream",
     "text": [
      "c:\\Users\\frank\\.conda\\envs\\m_env\\lib\\site-packages\\fuzzywuzzy\\fuzz.py:11: UserWarning: Using slow pure-python SequenceMatcher. Install python-Levenshtein to remove this warning\n",
      "  warnings.warn('Using slow pure-python SequenceMatcher. Install python-Levenshtein to remove this warning')\n"
     ]
    }
   ],
   "source": [
    "import json\n",
    "# import pykakasi\n",
    "import pprint\n",
    "# import cutlet\n",
    "import requests\n",
    "# from backoff import on_exception, expo\n",
    "from requests.exceptions import HTTPError\n",
    "import time\n",
    "from fuzzywuzzy import fuzz"
   ]
  },
  {
   "cell_type": "code",
   "execution_count": 2,
   "metadata": {},
   "outputs": [],
   "source": [
    "stationsF = open('processed_stations_shrinked.json')\n",
    "stations = json.load(stationsF)"
   ]
  },
  {
   "cell_type": "code",
   "execution_count": 3,
   "metadata": {},
   "outputs": [],
   "source": [
    "prefectureF = open('open-data-jp-prefectures-master/prefectures.json')\n",
    "prefectures = json.load(prefectureF)"
   ]
  },
  {
   "cell_type": "code",
   "execution_count": 4,
   "metadata": {},
   "outputs": [
    {
     "name": "stdout",
     "output_type": "stream",
     "text": [
      "{'01': 'Hokkaido', '02': 'Aomori', '03': 'Iwate', '04': 'Miyagi', '05': 'Akita', '06': 'Yamagata', '07': 'Fukushima', '08': 'Ibaraki', '09': 'Tochigi', '10': 'Gunma', '11': 'Saitama', '12': 'Chiba', '13': 'Tokyo', '14': 'Kanagawa', '15': 'Niigata', '16': 'Toyama', '17': 'Ishikawa', '18': 'Fukui', '19': 'Yamanashi', '20': 'Nagano', '21': 'Gifu', '22': 'Shizuoka', '23': 'Aichi', '24': 'Mie', '25': 'Shiga', '26': 'Kyoto', '27': 'Osaka', '28': 'Hyōgo', '29': 'Nara', '30': 'Wakayama', '31': 'Tottori', '32': 'Shimane', '33': 'Okayama', '34': 'Hiroshima', '35': 'Yamaguchi', '36': 'Tokushima', '37': 'Kagawa', '38': 'Ehime', '39': 'Kōchi', '40': 'Fukuoka', '41': 'Saga', '42': 'Nagasaki', '43': 'Kumamoto', '44': 'Ōita', '45': 'Miyazaki', '46': 'Kagoshima', '47': 'Okinawa'}\n"
     ]
    }
   ],
   "source": [
    "prefecture_dict = {}\n",
    "\n",
    "for prefecture in prefectures:\n",
    "    iso_code = prefecture[\"iso\"]\n",
    "    # Split romaji and exclude the last word if more than one word\n",
    "    romaji_parts = prefecture[\"prefecture_romaji\"].split()\n",
    "    if len(romaji_parts) > 1:\n",
    "        romaji_name = \" \".join(romaji_parts[:-1])\n",
    "    else:\n",
    "        romaji_name = romaji_parts[0]  # For single-word cases like \"Hokkaido\"\n",
    "    \n",
    "    # Store in dictionary\n",
    "    prefecture_dict[iso_code] = romaji_name\n",
    "\n",
    "# Output the result\n",
    "print(prefecture_dict)"
   ]
  },
  {
   "cell_type": "code",
   "execution_count": 5,
   "metadata": {},
   "outputs": [],
   "source": [
    "eki = \"駅\""
   ]
  },
  {
   "cell_type": "code",
   "execution_count": 18,
   "metadata": {},
   "outputs": [],
   "source": [
    "text = '猪名寺'\n",
    "# text = '梅田站'\n",
    "# text = '中山寺駅'\n",
    "# text = '新大阪'"
   ]
  },
  {
   "cell_type": "code",
   "execution_count": 13,
   "metadata": {},
   "outputs": [],
   "source": [
    "# @on_exception(expo, HTTPError, max_tries=5, factor=2)\n",
    "def fetch_wikidata(place_name: str, use_eki=True):\n",
    "    url = 'https://www.wikidata.org/w/api.php'\n",
    "    station_name = place_name if place_name.endswith(eki) else place_name + eki\n",
    "    params = {\n",
    "        'action': 'wbsearchentities',\n",
    "        'format': 'json',\n",
    "        'search': station_name,\n",
    "        'language': 'ja'\n",
    "    }\n",
    "    try:\n",
    "        response = requests.get(url, params=params)\n",
    "        response.raise_for_status()  # Ensure we catch HTTP errors\n",
    "        return response.json()\n",
    "    except requests.exceptions.RequestException as e:\n",
    "        print(f\"Error fetching data: {e}\")\n",
    "        return None\n",
    "\n",
    "def get_romaji_name(place_name, prefecture_id):\n",
    "    prefecture_name = prefecture_dict.get(prefecture_id, None)\n",
    "    if prefecture_name is None:\n",
    "        print(f\"Invalid prefecture_id: {prefecture_id}\")\n",
    "        return None, None\n",
    "\n",
    "    # Fetch data from Wikidata\n",
    "    data = fetch_wikidata(place_name)\n",
    "    if data is None or 'search' not in data:\n",
    "        print(f\"{place_name} cannot be found on Wikidata\")\n",
    "        return None, None\n",
    "\n",
    "    for item in data['search']:\n",
    "        # Check for an English label in 'display'\n",
    "        if 'display' in item and 'label' in item['display']:\n",
    "            label = item['display']['label']\n",
    "            if label['language'] == 'en':\n",
    "                # Extract the English name and remove \"Station\" if present\n",
    "                romaji_name = label['value'].replace(\"Station\", \"\").strip()\n",
    "\n",
    "                # Extract serving city\n",
    "                if 'description' in item['display'] and 'value' in item['display']['description']:\n",
    "                    description = item['display']['description']['value']\n",
    "                    # print(description)\n",
    "                    if fuzz.partial_ratio(prefecture_name, description) >= 75:\n",
    "                        if prefecture_name == \"Tokyo\":\n",
    "                            city_name = prefecture_name\n",
    "                            return romaji_name, city_name\n",
    "                        location_parts = description.split(',')\n",
    "                        if len(location_parts) >= 2:\n",
    "                            # Follow the rules based on segment count\n",
    "                            if len(location_parts) == 2 or len(location_parts) == 3:\n",
    "                                # If there are 2 or 3 segments, city is the first part\n",
    "                                city_name = location_parts[0].strip().split()[-1]\n",
    "                            elif len(location_parts) == 4:\n",
    "                                # If there are 4 segments, city is the second part\n",
    "                                if \"district\" in location_parts[1].lower() or \"prefecture\" in location_parts[1].lower():\n",
    "                                    city_name = location_parts[0].strip().split()[-1]\n",
    "                                else:\n",
    "                                    city_name = location_parts[1].strip().split()\n",
    "                            else:\n",
    "                                city_name = location_parts[0].strip().split()[-1]\n",
    "                    \n",
    "                        return romaji_name, city_name\n",
    "\n",
    "    print(f'No instance of {place_name} station is found')\n",
    "    return None, None"
   ]
  },
  {
   "cell_type": "code",
   "execution_count": 18,
   "metadata": {},
   "outputs": [
    {
     "name": "stdout",
     "output_type": "stream",
     "text": [
      "('Tsukaguchi', 'Amagasaki')\n",
      "('Kohata', 'Uji')\n",
      "('Ashiya', 'Ashiya')\n",
      "('Atawa', 'Mihama')\n"
     ]
    }
   ],
   "source": [
    "print(get_romaji_name(\"塚口\", \"28\"))\n",
    "print(get_romaji_name(\"木幡\", \"26\"))\n",
    "print(get_romaji_name(\"芦屋\", \"28\"))\n",
    "print(get_romaji_name(\"阿田和\", \"24\"))"
   ]
  },
  {
   "cell_type": "code",
   "execution_count": 19,
   "metadata": {},
   "outputs": [],
   "source": [
    "import copy"
   ]
  },
  {
   "cell_type": "code",
   "execution_count": 32,
   "metadata": {},
   "outputs": [],
   "source": [
    "translated_stations = []"
   ]
  },
  {
   "cell_type": "code",
   "execution_count": 33,
   "metadata": {},
   "outputs": [],
   "source": [
    "def handle_special_case(data):\n",
    "    # A very ugly brute force solution\n",
    "    s_name, p_name = data[\"name_kanji\"], data[\"prefecture\"]\n",
    "    if s_name == \"駒ケ岳\":\n",
    "        return \"Komagatake\", \"Mori\"\n",
    "    elif s_name == \"千代ケ岡\":\n",
    "        return \"Chiyogaoka\", \"Asahikawa\"\n",
    "    elif s_name == \"溝の口\":\n",
    "        return \"Musashi-Mizonokuchi\", \"Kawasaki\"\n",
    "    elif s_name == \"新川崎\":\n",
    "        return \"Shin-Kawasaki\", \"Kawasaki\"\n",
    "    elif s_name == \"電鉄富山駅・エスタ前\":\n",
    "        return \"Toyama\", \"Toyama\"\n",
    "    elif s_name == \"昭和町通り\":\n",
    "        return \"Nishi-Urakami\", \"Nagasaki\"\n",
    "    elif s_name == \"成田空港（第１旅客ターミナル）\" or s_name == \"空港第２ビル（第２旅客ターミナル）\":\n",
    "        return \"Narita Airport\", \"Narita\"\n",
    "    elif s_name == \"鹿島サッカースタジアム（臨）\":\n",
    "        return \"Kashima Soccer Stadium\", \"Kashima\"\n",
    "    else:\n",
    "        print(f\"{s_name, p_name} is not covered in special case\")\n",
    "        return None, None"
   ]
  },
  {
   "cell_type": "code",
   "execution_count": 34,
   "metadata": {},
   "outputs": [],
   "source": [
    "def translate_station(data):\n",
    "    translated_data = data.copy()\n",
    "    stat, city = get_romaji_name(data[\"name_kanji\"], data[\"prefecture\"])\n",
    "    if stat is None:\n",
    "        stat, city = handle_special_case(data)\n",
    "    translated_data[\"name_romaji\"] = stat\n",
    "    translated_data[\"city\"] = city\n",
    "\n",
    "    alternative_names = {\n",
    "        name: get_romaji_name(name, data[\"prefecture\"])[0] for name in data.get(\"alternative_names\", [])\n",
    "    }\n",
    "    translated_stations = []\n",
    "    for station in data[\"stations\"]:\n",
    "        # Copy station data to avoid modifying the original input\n",
    "        translated_station = station.copy()\n",
    "        # Add romaji name, based on the outer name_kanji (station group)\n",
    "        if translated_station[\"name_kanji\"] != data[\"name_kanji\"]:\n",
    "            translated_station[\"name_romaji\"] = alternative_names[translated_station[\"name_kanji\"]]\n",
    "        else:\n",
    "            translated_station[\"name_romaji\"] = translated_data[\"name_romaji\"]\n",
    "        # Append to translated_stations list\n",
    "        translated_stations.append(translated_station)\n",
    "\n",
    "    # Step 4: Add the translated stations to a new list in the translated data dictionary\n",
    "    translated_data[\"stations\"] = translated_stations\n",
    "\n",
    "    return translated_data"
   ]
  },
  {
   "cell_type": "code",
   "execution_count": 30,
   "metadata": {},
   "outputs": [],
   "source": [
    "from tqdm import tqdm"
   ]
  },
  {
   "cell_type": "code",
   "execution_count": 35,
   "metadata": {},
   "outputs": [
    {
     "name": "stderr",
     "output_type": "stream",
     "text": [
      "  0%|          | 12/3216 [00:04<19:01,  2.81it/s]"
     ]
    },
    {
     "name": "stdout",
     "output_type": "stream",
     "text": [
      "No instance of 駒ケ岳 station is found\n"
     ]
    },
    {
     "name": "stderr",
     "output_type": "stream",
     "text": [
      "  5%|▍         | 151/3216 [00:55<22:36,  2.26it/s]"
     ]
    },
    {
     "name": "stdout",
     "output_type": "stream",
     "text": [
      "No instance of 幾寅 station is found\n",
      "('幾寅', '01') is not covered in special case\n"
     ]
    },
    {
     "name": "stderr",
     "output_type": "stream",
     "text": [
      "  5%|▍         | 152/3216 [00:56<21:34,  2.37it/s]"
     ]
    },
    {
     "name": "stdout",
     "output_type": "stream",
     "text": [
      "No instance of 落合 station is found\n",
      "('落合', '01') is not covered in special case\n"
     ]
    },
    {
     "name": "stderr",
     "output_type": "stream",
     "text": [
      "  8%|▊         | 266/3216 [01:37<16:33,  2.97it/s]"
     ]
    },
    {
     "name": "stdout",
     "output_type": "stream",
     "text": [
      "No instance of 月ケ岡 station is found\n",
      "('月ケ岡', '01') is not covered in special case\n"
     ]
    },
    {
     "name": "stderr",
     "output_type": "stream",
     "text": [
      "  8%|▊         | 269/3216 [01:38<16:27,  2.99it/s]"
     ]
    },
    {
     "name": "stdout",
     "output_type": "stream",
     "text": [
      "No instance of 豊ケ岡 station is found\n",
      "('豊ケ岡', '01') is not covered in special case\n"
     ]
    },
    {
     "name": "stderr",
     "output_type": "stream",
     "text": [
      "  9%|▉         | 296/3216 [01:48<16:18,  2.99it/s]"
     ]
    },
    {
     "name": "stdout",
     "output_type": "stream",
     "text": [
      "No instance of 千代ケ岡 station is found\n"
     ]
    },
    {
     "name": "stderr",
     "output_type": "stream",
     "text": [
      " 32%|███▏      | 1039/3216 [06:12<13:59,  2.59it/s]"
     ]
    },
    {
     "name": "stdout",
     "output_type": "stream",
     "text": [
      "No instance of 溝の口 station is found\n"
     ]
    },
    {
     "name": "stderr",
     "output_type": "stream",
     "text": [
      " 34%|███▍      | 1108/3216 [06:43<12:58,  2.71it/s]"
     ]
    },
    {
     "name": "stdout",
     "output_type": "stream",
     "text": [
      "No instance of 新川崎 station is found\n"
     ]
    },
    {
     "name": "stderr",
     "output_type": "stream",
     "text": [
      " 42%|████▏     | 1336/3216 [08:08<13:48,  2.27it/s]"
     ]
    },
    {
     "name": "stdout",
     "output_type": "stream",
     "text": [
      "No instance of 成田空港（第１旅客ターミナル） station is found\n"
     ]
    },
    {
     "name": "stderr",
     "output_type": "stream",
     "text": [
      " 42%|████▏     | 1339/3216 [08:09<12:04,  2.59it/s]"
     ]
    },
    {
     "name": "stdout",
     "output_type": "stream",
     "text": [
      "No instance of 空港第２ビル（第２旅客ターミナル） station is found\n"
     ]
    },
    {
     "name": "stderr",
     "output_type": "stream",
     "text": [
      " 42%|████▏     | 1344/3216 [08:11<11:07,  2.81it/s]"
     ]
    },
    {
     "name": "stdout",
     "output_type": "stream",
     "text": [
      "No instance of 鹿島サッカースタジアム（臨） station is found\n"
     ]
    },
    {
     "name": "stderr",
     "output_type": "stream",
     "text": [
      " 48%|████▊     | 1538/3216 [09:22<10:04,  2.78it/s]"
     ]
    },
    {
     "name": "stdout",
     "output_type": "stream",
     "text": [
      "No instance of 電鉄富山駅・エスタ前 station is found\n"
     ]
    },
    {
     "name": "stderr",
     "output_type": "stream",
     "text": [
      " 48%|████▊     | 1539/3216 [09:24<22:28,  1.24it/s]"
     ]
    },
    {
     "name": "stdout",
     "output_type": "stream",
     "text": [
      "No instance of 富山駅北 station is found\n"
     ]
    },
    {
     "name": "stderr",
     "output_type": "stream",
     "text": [
      " 62%|██████▏   | 2002/3216 [12:18<07:13,  2.80it/s]"
     ]
    },
    {
     "name": "stdout",
     "output_type": "stream",
     "text": [
      "No instance of 三宮・花時計前 station is found\n"
     ]
    },
    {
     "name": "stderr",
     "output_type": "stream",
     "text": [
      " 62%|██████▏   | 2005/3216 [12:21<12:55,  1.56it/s]"
     ]
    },
    {
     "name": "stdout",
     "output_type": "stream",
     "text": [
      "No instance of ハーバーランド station is found\n"
     ]
    },
    {
     "name": "stderr",
     "output_type": "stream",
     "text": [
      " 64%|██████▎   | 2043/3216 [12:36<08:17,  2.36it/s]"
     ]
    },
    {
     "name": "stdout",
     "output_type": "stream",
     "text": [
      "No instance of 天王寺駅前 station is found\n"
     ]
    },
    {
     "name": "stderr",
     "output_type": "stream",
     "text": [
      " 64%|██████▎   | 2045/3216 [12:38<14:44,  1.32it/s]"
     ]
    },
    {
     "name": "stdout",
     "output_type": "stream",
     "text": [
      "No instance of 新今宮駅前 station is found\n"
     ]
    },
    {
     "name": "stderr",
     "output_type": "stream",
     "text": [
      " 82%|████████▏ | 2646/3216 [16:20<04:33,  2.09it/s]"
     ]
    },
    {
     "name": "stdout",
     "output_type": "stream",
     "text": [
      "No instance of 高知駅前 station is found\n"
     ]
    },
    {
     "name": "stderr",
     "output_type": "stream",
     "text": [
      " 89%|████████▊ | 2848/3216 [17:35<03:07,  1.96it/s]"
     ]
    },
    {
     "name": "stdout",
     "output_type": "stream",
     "text": [
      "No instance of 熊本駅前 station is found\n"
     ]
    },
    {
     "name": "stderr",
     "output_type": "stream",
     "text": [
      " 90%|█████████ | 2897/3216 [17:52<01:48,  2.94it/s]"
     ]
    },
    {
     "name": "stdout",
     "output_type": "stream",
     "text": [
      "No instance of 昭和町通り station is found\n"
     ]
    },
    {
     "name": "stderr",
     "output_type": "stream",
     "text": [
      "100%|██████████| 3216/3216 [19:46<00:00,  2.71it/s]\n"
     ]
    }
   ],
   "source": [
    "for i in tqdm(range(len(stations))):\n",
    "    translated_stations.append(translate_station(stations[i]))"
   ]
  },
  {
   "cell_type": "code",
   "execution_count": 73,
   "metadata": {},
   "outputs": [],
   "source": [
    "with open(\"translated_stations_small.json\", \"w\", encoding=\"utf-8\") as of:\n",
    "    json.dump(translated_stations, of, ensure_ascii=False, indent=4)"
   ]
  },
  {
   "cell_type": "code",
   "execution_count": 36,
   "metadata": {},
   "outputs": [],
   "source": [
    "with open(\"translated_stations_test.json\", \"w\", encoding=\"utf-8\") as of:\n",
    "    json.dump(translated_stations, of, ensure_ascii=False, indent=4)"
   ]
  },
  {
   "cell_type": "markdown",
   "metadata": {},
   "source": [
    "### Manually work each one of these:\n",
    "\n",
    "e.g. https://www.wikidata.org/w/api.php?action=wbsearchentities&format=json&language=en&search=%E9%A7%92%E5%B2%B3\n",
    "\n",
    "- 駒ケ岳 (Komagatake)\n",
    "- 幾寅 (Doesn't matter)\n",
    "- 落合 (Doesn't matter)\n",
    "- 月ケ岡 (Permanently closed)\n",
    "- 豊ケ岡 (Permanently closed)\n",
    "- 千代ケ岡 (Chiyogaoka)\n",
    "- 溝の口 (Mizonokuchi)\n",
    "- 新川崎 (Shin-Kawasaki)\n",
    "- 成田空港（第１旅客ターミナル） (Narita)\n",
    "- 空港第２ビル（第２旅客ターミナル） (Narita)\n",
    "- 鹿島サッカースタジアム（臨） (Kashima Soccer Stadium)\n",
    "- 電鉄富山駅・エスタ前 (Toyama)\n",
    "- 富山駅北 (Toyama)\n",
    "- 天王寺駅前 (Doesn't matter)\n",
    "- 新今宮駅前 (Doesn't matter)\n",
    "- 熊本駅前 (Doesn't matter)\n",
    "- 昭和町通り (Nishi-Urakami)"
   ]
  },
  {
   "cell_type": "markdown",
   "metadata": {},
   "source": [
    "### Inaccurate translations provided by libraries"
   ]
  },
  {
   "cell_type": "code",
   "execution_count": null,
   "metadata": {},
   "outputs": [
    {
     "name": "stdout",
     "output_type": "stream",
     "text": [
      "寺: kana 'テラ', hiragana 'てら', romaji: 'tera'\n"
     ]
    }
   ],
   "source": [
    "kks = pykakasi.kakasi()\n",
    "result = kks.convert(text)\n",
    "for item in result:\n",
    "    print(\"{}: kana '{}', hiragana '{}', romaji: '{}'\".format(item['orig'], item['kana'], item['hira'], item['hepburn']))"
   ]
  },
  {
   "cell_type": "code",
   "execution_count": 25,
   "metadata": {},
   "outputs": [
    {
     "name": "stdout",
     "output_type": "stream",
     "text": [
      "Tera\n",
      "Tera\n",
      "Tera\n",
      "Tera\n",
      "Tera\n"
     ]
    }
   ],
   "source": [
    "katsu = cutlet.Cutlet()\n",
    "print(katsu.romaji(text))\n",
    "dicts = ['hepburn', 'kunrei', 'nippon', 'nihon']\n",
    "for d in dicts:\n",
    "    katsu = cutlet.Cutlet(d)\n",
    "    print(katsu.romaji(text))"
   ]
  },
  {
   "cell_type": "code",
   "execution_count": null,
   "metadata": {},
   "outputs": [],
   "source": []
  }
 ],
 "metadata": {
  "kernelspec": {
   "display_name": "m_env",
   "language": "python",
   "name": "python3"
  },
  "language_info": {
   "codemirror_mode": {
    "name": "ipython",
    "version": 3
   },
   "file_extension": ".py",
   "mimetype": "text/x-python",
   "name": "python",
   "nbconvert_exporter": "python",
   "pygments_lexer": "ipython3",
   "version": "3.10.13"
  }
 },
 "nbformat": 4,
 "nbformat_minor": 2
}
