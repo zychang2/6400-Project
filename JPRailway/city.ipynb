{
 "cells": [
  {
   "cell_type": "markdown",
   "metadata": {},
   "source": [
    "### TODO:\n",
    "1. Manually change \"-ku\" to actual city\n",
    "2. Osaka vs Ōsaka\n",
    "3. Change all prefecture 13 city to Tokyo\n",
    "4. Some city are represented by List\n",
    "5. Kyoto vs Kyōto\n",
    "6. `\"city\": \".*Ō.*\"`\n",
    "7. Ōdate, "
   ]
  },
  {
   "cell_type": "code",
   "execution_count": 6,
   "metadata": {},
   "outputs": [],
   "source": [
    "import json\n",
    "from fuzzywuzzy import fuzz\n",
    "import requests\n",
    "from requests.exceptions import HTTPError\n",
    "import time"
   ]
  },
  {
   "cell_type": "code",
   "execution_count": 7,
   "metadata": {},
   "outputs": [],
   "source": [
    "stationsF = open(\"translated_stations_test.json\")\n",
    "stations = json.load(stationsF)"
   ]
  },
  {
   "cell_type": "code",
   "execution_count": 10,
   "metadata": {},
   "outputs": [],
   "source": [
    "def normalize_long_vowels(text: str):\n",
    "    return text.replace(\"Ō\", \"O\").replace(\"ō\", \"o\").replace(\"Ū\", \"U\").replace(\"ū\", \"u\")"
   ]
  },
  {
   "cell_type": "code",
   "execution_count": 11,
   "metadata": {},
   "outputs": [],
   "source": [
    "for s in stations:\n",
    "    if isinstance(s['city'], list):\n",
    "        if len(s['city']) == 1:\n",
    "            # If there's only one item in the list, assign it as the city name\n",
    "            s['city'] = normalize_long_vowels(s['city'][0])\n",
    "        elif len(s['city']) > 1:\n",
    "            # If there are multiple items in the list, set 'city' to None\n",
    "            s['city'] = None\n",
    "    if isinstance(s['city'], str):\n",
    "        s['city'] = normalize_long_vowels(s['city'])\n"
   ]
  },
  {
   "cell_type": "code",
   "execution_count": 12,
   "metadata": {},
   "outputs": [],
   "source": [
    "with open(\"translated_stations_normalized.json\", \"w\", encoding=\"utf-8\") as of:\n",
    "    json.dump(stations, of, ensure_ascii=False, indent=4)"
   ]
  }
 ],
 "metadata": {
  "kernelspec": {
   "display_name": "m_env",
   "language": "python",
   "name": "python3"
  },
  "language_info": {
   "codemirror_mode": {
    "name": "ipython",
    "version": 3
   },
   "file_extension": ".py",
   "mimetype": "text/x-python",
   "name": "python",
   "nbconvert_exporter": "python",
   "pygments_lexer": "ipython3",
   "version": "3.10.13"
  }
 },
 "nbformat": 4,
 "nbformat_minor": 2
}
